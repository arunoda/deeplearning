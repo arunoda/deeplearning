{
  "nbformat": 4,
  "nbformat_minor": 0,
  "metadata": {
    "kernelspec": {
      "display_name": "Python 3",
      "language": "python",
      "name": "python3"
    },
    "language_info": {
      "codemirror_mode": {
        "name": "ipython",
        "version": 3
      },
      "file_extension": ".py",
      "mimetype": "text/x-python",
      "name": "python",
      "nbconvert_exporter": "python",
      "pygments_lexer": "ipython3",
      "version": "3.7.6"
    },
    "colab": {
      "name": "03.detecting-vehicles.ipynb",
      "provenance": []
    },
    "accelerator": "GPU"
  },
  "cells": [
    {
      "cell_type": "markdown",
      "metadata": {
        "id": "o7Z4_2Sf2R9L",
        "colab_type": "text"
      },
      "source": [
        "# Detecting Vehicles\n",
        "\n",
        "Here we are trying to create a model to detect 10 types of vehicles.\n",
        "\n",
        "This is a dataset Arunoda created based on Google search images.\n",
        "You can get it from [here](https://github.com/arunoda/fastai-courses/releases/tag/fastai-vehicles-dataset)."
      ]
    },
    {
      "cell_type": "markdown",
      "metadata": {
        "id": "1mz5g5eA2Uga",
        "colab_type": "text"
      },
      "source": [
        "## Setting Up\n",
        "This is how we install fastai and setup our notebook"
      ]
    },
    {
      "cell_type": "code",
      "metadata": {
        "id": "senKKKoP2ZBL",
        "colab_type": "code",
        "colab": {}
      },
      "source": [
        "!pip install fastai2\n",
        "!git clone https://github.com/arunoda/deeplearning.git\n",
        "%cd 'deeplearning'"
      ],
      "execution_count": 0,
      "outputs": []
    },
    {
      "cell_type": "code",
      "metadata": {
        "id": "vztK1kQn2R9M",
        "colab_type": "code",
        "colab": {}
      },
      "source": [
        "from fastai2.vision.all import *"
      ],
      "execution_count": 0,
      "outputs": []
    },
    {
      "cell_type": "markdown",
      "metadata": {
        "id": "AZg7q9sE2R9Q",
        "colab_type": "text"
      },
      "source": [
        "## Getting Data\n",
        "\n",
        "Here we will download a dataset hosted on GitHub.<br/>\n",
        "Unfortunately, `untar_data` does not work with here. So, use the following `download.sh` bash script."
      ]
    },
    {
      "cell_type": "code",
      "metadata": {
        "id": "7l_nCRi72R9b",
        "colab_type": "code",
        "colab": {}
      },
      "source": [
        "dataset_url = \"https://github.com/arunoda/fastai-courses/releases/download/fastai-vehicles-dataset/fastai-vehicles.tgz\""
      ],
      "execution_count": 0,
      "outputs": []
    },
    {
      "cell_type": "code",
      "metadata": {
        "id": "azotnQoi2R9f",
        "colab_type": "code",
        "colab": {}
      },
      "source": [
        "!./download.sh {dataset_url}"
      ],
      "execution_count": 0,
      "outputs": []
    },
    {
      "cell_type": "code",
      "metadata": {
        "id": "LoNYSyHo2R9i",
        "colab_type": "code",
        "colab": {}
      },
      "source": [
        "im_path = Path(\"/content/deeplearning/.datasets/77c6f8768e1dcbe1935d260cedfad9329e025c93\")\n",
        "im_path.ls()"
      ],
      "execution_count": 0,
      "outputs": []
    },
    {
      "cell_type": "code",
      "metadata": {
        "id": "bbQl8JLQ2R9k",
        "colab_type": "code",
        "colab": {}
      },
      "source": [
        "image_list = (im_path/\"images\").ls()\n",
        "image_list"
      ],
      "execution_count": 0,
      "outputs": []
    },
    {
      "cell_type": "code",
      "metadata": {
        "id": "2Ty2b7lm2R9m",
        "colab_type": "code",
        "colab": {}
      },
      "source": [
        "print\n",
        "show_image(Image.open(image_list[0]))"
      ],
      "execution_count": 0,
      "outputs": []
    },
    {
      "cell_type": "markdown",
      "metadata": {
        "id": "M3BqnL6z2R9p",
        "colab_type": "text"
      },
      "source": [
        "## Let's load Images"
      ]
    },
    {
      "cell_type": "code",
      "metadata": {
        "id": "hhsgswXo2R9q",
        "colab_type": "code",
        "colab": {}
      },
      "source": [
        "def get_vehicle_type(p):\n",
        "    return re.sub('-[0-9]+.*', '', p.name)\n",
        "\n",
        "get_vehicle_type(image_list[0])"
      ],
      "execution_count": 0,
      "outputs": []
    },
    {
      "cell_type": "code",
      "metadata": {
        "id": "kGNNE34a2R9s",
        "colab_type": "code",
        "colab": {}
      },
      "source": [
        "db = DataBlock(\n",
        "    blocks=(ImageBlock, CategoryBlock),\n",
        "    get_items=get_image_files,\n",
        "    splitter=RandomSplitter(0.3),\n",
        "    get_y=get_vehicle_type,\n",
        "    item_tfms=Resize(224)\n",
        ")"
      ],
      "execution_count": 0,
      "outputs": []
    },
    {
      "cell_type": "code",
      "metadata": {
        "id": "PY5xVNkG2R9v",
        "colab_type": "code",
        "colab": {}
      },
      "source": [
        "dls = db.dataloaders(im_path/\"images\")"
      ],
      "execution_count": 0,
      "outputs": []
    },
    {
      "cell_type": "code",
      "metadata": {
        "id": "B_ugK-ee2R9x",
        "colab_type": "code",
        "colab": {}
      },
      "source": [
        "dls.show_batch()"
      ],
      "execution_count": 0,
      "outputs": []
    },
    {
      "cell_type": "code",
      "metadata": {
        "id": "fWaAEpNY2R9z",
        "colab_type": "code",
        "colab": {}
      },
      "source": [
        "## These are the types of vehicles we have.\n",
        "dls.vocab"
      ],
      "execution_count": 0,
      "outputs": []
    },
    {
      "cell_type": "markdown",
      "metadata": {
        "id": "GwgWWj662R91",
        "colab_type": "text"
      },
      "source": [
        "## Let's Create Our Model"
      ]
    },
    {
      "cell_type": "code",
      "metadata": {
        "id": "w84KxnPM2R92",
        "colab_type": "code",
        "colab": {}
      },
      "source": [
        "learn = cnn_learner(dls, resnet34, metrics=accuracy)"
      ],
      "execution_count": 0,
      "outputs": []
    },
    {
      "cell_type": "code",
      "metadata": {
        "id": "B7QXCIUZ2R94",
        "colab_type": "code",
        "colab": {}
      },
      "source": [
        "learn.fine_tune(4)"
      ],
      "execution_count": 0,
      "outputs": []
    },
    {
      "cell_type": "markdown",
      "metadata": {
        "id": "JKebe3_d2R96",
        "colab_type": "text"
      },
      "source": [
        "## Let's Analyze Our Model"
      ]
    },
    {
      "cell_type": "code",
      "metadata": {
        "id": "uBZjzHQX2R96",
        "colab_type": "code",
        "colab": {}
      },
      "source": [
        "analyzer = ClassificationInterpretation.from_learner(learn)"
      ],
      "execution_count": 0,
      "outputs": []
    },
    {
      "cell_type": "code",
      "metadata": {
        "id": "E1twVwmr2R98",
        "colab_type": "code",
        "colab": {}
      },
      "source": [
        "analyzer.plot_confusion_matrix(figsize=(8,8))"
      ],
      "execution_count": 0,
      "outputs": []
    },
    {
      "cell_type": "code",
      "metadata": {
        "id": "Zxf0NA9d2R9-",
        "colab_type": "code",
        "colab": {}
      },
      "source": [
        "analyzer.plot_top_losses(9, figsize=(12, 12))"
      ],
      "execution_count": 0,
      "outputs": []
    },
    {
      "cell_type": "markdown",
      "metadata": {
        "id": "Qtdts3k22R-A",
        "colab_type": "text"
      },
      "source": [
        "## Cleaning Data"
      ]
    },
    {
      "cell_type": "code",
      "metadata": {
        "id": "u7IuoCXY2R-C",
        "colab_type": "code",
        "colab": {}
      },
      "source": [
        "from fastai2.vision.widgets import *"
      ],
      "execution_count": 0,
      "outputs": []
    },
    {
      "cell_type": "code",
      "metadata": {
        "id": "BqlfwksH2R-E",
        "colab_type": "code",
        "colab": {}
      },
      "source": [
        "cleaner = ImageClassifierCleaner(learn)"
      ],
      "execution_count": 0,
      "outputs": []
    },
    {
      "cell_type": "code",
      "metadata": {
        "id": "zbZ85rGy2R-G",
        "colab_type": "code",
        "colab": {}
      },
      "source": [
        "cleaner"
      ],
      "execution_count": 0,
      "outputs": []
    },
    {
      "cell_type": "code",
      "metadata": {
        "id": "6hFPjmTr2R-H",
        "colab_type": "code",
        "colab": {}
      },
      "source": [
        "for idx in cleaner.delete():\n",
        "    print(cleaner.fns[idx])\n",
        "    cleaner.fns[idx].unlink()"
      ],
      "execution_count": 0,
      "outputs": []
    },
    {
      "cell_type": "markdown",
      "metadata": {
        "id": "WakgAZQW2R-J",
        "colab_type": "text"
      },
      "source": [
        "## Run the model again"
      ]
    },
    {
      "cell_type": "code",
      "metadata": {
        "id": "6VBKWbIU2R-K",
        "colab_type": "code",
        "colab": {}
      },
      "source": [
        "dls = db.dataloaders(im_path)"
      ],
      "execution_count": 0,
      "outputs": []
    },
    {
      "cell_type": "code",
      "metadata": {
        "id": "V-s-gdyo2R-L",
        "colab_type": "code",
        "colab": {}
      },
      "source": [
        "learn = cnn_learner(dls, resnet34, metrics=accuracy)"
      ],
      "execution_count": 0,
      "outputs": []
    },
    {
      "cell_type": "code",
      "metadata": {
        "id": "49ISUM182R-N",
        "colab_type": "code",
        "colab": {}
      },
      "source": [
        "learn.fine_tune(4)"
      ],
      "execution_count": 0,
      "outputs": []
    },
    {
      "cell_type": "code",
      "metadata": {
        "id": "T0afJOb72R-P",
        "colab_type": "code",
        "colab": {}
      },
      "source": [
        ""
      ],
      "execution_count": 0,
      "outputs": []
    }
  ]
}