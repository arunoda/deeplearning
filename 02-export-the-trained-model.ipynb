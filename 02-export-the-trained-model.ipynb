{
  "nbformat": 4,
  "nbformat_minor": 0,
  "metadata": {
    "kernelspec": {
      "display_name": "Python 3",
      "language": "python",
      "name": "python3"
    },
    "language_info": {
      "codemirror_mode": {
        "name": "ipython",
        "version": 3
      },
      "file_extension": ".py",
      "mimetype": "text/x-python",
      "name": "python",
      "nbconvert_exporter": "python",
      "pygments_lexer": "ipython3",
      "version": "3.7.6"
    },
    "colab": {
      "name": "01.hello-world.ipynb",
      "provenance": []
    },
    "accelerator": "GPU"
  },
  "cells": [
    {
      "cell_type": "markdown",
      "metadata": {
        "id": "Cf6ZX-NyqKpl",
        "colab_type": "text"
      },
      "source": [
        "# Exporting a Trained Model\n",
        "\n",
        "In this notebook, we are going to export a trained fast.ai model.\n",
        "<br/>\n",
        "It's the same model, we can identify cats and dogs."
      ]
    },
    {
      "cell_type": "markdown",
      "metadata": {
        "id": "ZqsHR82Eq9yK",
        "colab_type": "text"
      },
      "source": [
        "## Setting Up\n",
        "This is how we install fastai and setup our notebook"
      ]
    },
    {
      "cell_type": "code",
      "metadata": {
        "id": "cBH711cBqOT2",
        "colab_type": "code",
        "colab": {}
      },
      "source": [
        "!pip install fastai2\n",
        "!git clone https://github.com/arunoda/deeplearning.git\n",
        "%cd 'deeplearning'"
      ],
      "execution_count": 0,
      "outputs": []
    },
    {
      "cell_type": "code",
      "metadata": {
        "id": "I5lPtFGoqKpm",
        "colab_type": "code",
        "colab": {}
      },
      "source": [
        "from fastai2.vision.all import *"
      ],
      "execution_count": 0,
      "outputs": []
    },
    {
      "cell_type": "markdown",
      "metadata": {
        "id": "_86ApkriqKpq",
        "colab_type": "text"
      },
      "source": [
        "\n",
        "## Create the model\n",
        "\n",
        "Unlike in the other notebook, we are going to create the model very quickly, without inspecting images and data."
      ]
    },
    {
      "cell_type": "code",
      "metadata": {
        "id": "seMUbi0tqKpr",
        "colab_type": "code",
        "colab": {}
      },
      "source": [
        "im_path = untar_data(URLs.PETS)"
      ],
      "execution_count": 0,
      "outputs": []
    },
    {
      "cell_type": "code",
      "metadata": {
        "id": "CTLkY_85qKp6",
        "colab_type": "code",
        "colab": {}
      },
      "source": [
        "def cat_or_dog(p):\n",
        "    if p.name[0].isupper():\n",
        "        return 'cat'\n",
        "    else:\n",
        "        return 'dog'"
      ],
      "execution_count": 0,
      "outputs": []
    },
    {
      "cell_type": "code",
      "metadata": {
        "id": "jjt8N6ypqKp-",
        "colab_type": "code",
        "colab": {}
      },
      "source": [
        "db = DataBlock(\n",
        "    blocks=(ImageBlock, CategoryBlock),\n",
        "    get_items=get_image_files,\n",
        "    splitter=RandomSplitter(0.3),\n",
        "    item_tfms=Resize(224),\n",
        "    get_y=cat_or_dog\n",
        ")"
      ],
      "execution_count": 0,
      "outputs": []
    },
    {
      "cell_type": "code",
      "metadata": {
        "id": "GMdDaANVqKqB",
        "colab_type": "code",
        "colab": {}
      },
      "source": [
        "dls = db.dataloaders(im_path/\"images\")"
      ],
      "execution_count": 0,
      "outputs": []
    },
    {
      "cell_type": "code",
      "metadata": {
        "id": "5tM1B_Y5qKqG",
        "colab_type": "code",
        "colab": {}
      },
      "source": [
        "learn = cnn_learner(dls, resnet34, metrics=accuracy)"
      ],
      "execution_count": 0,
      "outputs": []
    },
    {
      "cell_type": "code",
      "metadata": {
        "id": "xWn2SerBqKqJ",
        "colab_type": "code",
        "colab": {}
      },
      "source": [
        "learn.fine_tune(2)"
      ],
      "execution_count": 0,
      "outputs": []
    },
    {
      "cell_type": "markdown",
      "metadata": {
        "id": "WxKlbfuYqKqc",
        "colab_type": "text"
      },
      "source": [
        "## Connecting Google Drive\n",
        "\n",
        "So, we can export a model and save it to Google Drive."
      ]
    },
    {
      "cell_type": "code",
      "metadata": {
        "id": "2vt_En1AwM7K",
        "colab_type": "code",
        "colab": {}
      },
      "source": [
        "from google.colab import drive\n",
        "drive.mount('/content/drive')"
      ],
      "execution_count": 0,
      "outputs": []
    },
    {
      "cell_type": "code",
      "metadata": {
        "id": "CBwYGPuqwtvz",
        "colab_type": "code",
        "colab": {}
      },
      "source": [
        "out_dir = Path(\"/content/drive/My Drive/dl-mantra\")\n",
        "out_dir.mkdir(parents=True, exist_ok=True)"
      ],
      "execution_count": 0,
      "outputs": []
    },
    {
      "cell_type": "code",
      "metadata": {
        "id": "4nq9U2rqxN6-",
        "colab_type": "code",
        "colab": {}
      },
      "source": [
        "learn.export(out_dir/\"cats_and_dogs.pkl\")"
      ],
      "execution_count": 0,
      "outputs": []
    },
    {
      "cell_type": "markdown",
      "metadata": {
        "id": "KItUu7gsyII0",
        "colab_type": "text"
      },
      "source": [
        "**Awesome**\n",
        "\n",
        "The trained model is exported into a filename called `cats_and_dogs.pkl` inside a folder called `dl-mantra` in your Google Drive.\n",
        "\n",
        "Visit your [Google Drive](https://drive.google.com/) and inspect it."
      ]
    },
    {
      "cell_type": "code",
      "metadata": {
        "id": "7LdzrpcNyT2E",
        "colab_type": "code",
        "colab": {}
      },
      "source": [
        ""
      ],
      "execution_count": 0,
      "outputs": []
    }
  ]
}