{
  "nbformat": 4,
  "nbformat_minor": 0,
  "metadata": {
    "kernelspec": {
      "display_name": "Python 3",
      "language": "python",
      "name": "python3"
    },
    "language_info": {
      "codemirror_mode": {
        "name": "ipython",
        "version": 3
      },
      "file_extension": ".py",
      "mimetype": "text/x-python",
      "name": "python",
      "nbconvert_exporter": "python",
      "pygments_lexer": "ipython3",
      "version": "3.7.6"
    },
    "colab": {
      "name": "01.hello-world.ipynb",
      "provenance": []
    },
    "accelerator": "GPU"
  },
  "cells": [
    {
      "cell_type": "markdown",
      "metadata": {
        "id": "Cf6ZX-NyqKpl",
        "colab_type": "text"
      },
      "source": [
        "# Hello World - Deeplearning\n",
        "\n",
        "This is the Hello World equivalent in deeplearning. <br/>\n",
        "With this, we are trying to identify Cats from Dogs."
      ]
    },
    {
      "cell_type": "markdown",
      "metadata": {
        "id": "ZqsHR82Eq9yK",
        "colab_type": "text"
      },
      "source": [
        "## Setting Up\n",
        "This is how we install fastai and setup our notebook"
      ]
    },
    {
      "cell_type": "code",
      "metadata": {
        "id": "cBH711cBqOT2",
        "colab_type": "code",
        "colab": {}
      },
      "source": [
        "!pip install fastai2\n",
        "!git clone https://github.com/arunoda/deeplearning.git\n",
        "%cd 'deeplearning'"
      ],
      "execution_count": 0,
      "outputs": []
    },
    {
      "cell_type": "code",
      "metadata": {
        "id": "I5lPtFGoqKpm",
        "colab_type": "code",
        "colab": {}
      },
      "source": [
        "from fastai2.vision.all import *"
      ],
      "execution_count": 0,
      "outputs": []
    },
    {
      "cell_type": "markdown",
      "metadata": {
        "id": "_86ApkriqKpq",
        "colab_type": "text"
      },
      "source": [
        "## Inspecting Images"
      ]
    },
    {
      "cell_type": "code",
      "metadata": {
        "id": "seMUbi0tqKpr",
        "colab_type": "code",
        "colab": {}
      },
      "source": [
        "im_path = untar_data(URLs.PETS)"
      ],
      "execution_count": 0,
      "outputs": []
    },
    {
      "cell_type": "code",
      "metadata": {
        "id": "YU3YNHlXqKpt",
        "colab_type": "code",
        "colab": {}
      },
      "source": [
        "im_path.ls()"
      ],
      "execution_count": 0,
      "outputs": []
    },
    {
      "cell_type": "code",
      "metadata": {
        "id": "XV8GioteqKpx",
        "colab_type": "code",
        "colab": {}
      },
      "source": [
        "image_list = (im_path/\"images\").ls()\n",
        "image_list"
      ],
      "execution_count": 0,
      "outputs": []
    },
    {
      "cell_type": "code",
      "metadata": {
        "id": "awprImInqKpz",
        "colab_type": "code",
        "colab": {}
      },
      "source": [
        "print(image_list[0])\n",
        "show_image(Image.open(image_list[0]))"
      ],
      "execution_count": 0,
      "outputs": []
    },
    {
      "cell_type": "code",
      "metadata": {
        "id": "gHZmQ2CjqKp2",
        "colab_type": "code",
        "colab": {}
      },
      "source": [
        "print(image_list[1])\n",
        "show_image(Image.open(image_list[1]))"
      ],
      "execution_count": 0,
      "outputs": []
    },
    {
      "cell_type": "markdown",
      "metadata": {
        "id": "Tl5WC5-KqKp4",
        "colab_type": "text"
      },
      "source": [
        "In this dataset, dognames starts with a **single letter** while cat names starts with a **capital letter**"
      ]
    },
    {
      "cell_type": "markdown",
      "metadata": {
        "id": "itACD_UhqKp5",
        "colab_type": "text"
      },
      "source": [
        "## Let's load images"
      ]
    },
    {
      "cell_type": "code",
      "metadata": {
        "id": "CTLkY_85qKp6",
        "colab_type": "code",
        "colab": {}
      },
      "source": [
        "def cat_or_dog(p):\n",
        "    if p.name[0].isupper():\n",
        "        return 'cat'\n",
        "    else:\n",
        "        return 'dog'"
      ],
      "execution_count": 0,
      "outputs": []
    },
    {
      "cell_type": "code",
      "metadata": {
        "id": "Tvpcjv39qKp8",
        "colab_type": "code",
        "colab": {}
      },
      "source": [
        "cat_or_dog(image_list[0]), cat_or_dog(image_list[1])"
      ],
      "execution_count": 0,
      "outputs": []
    },
    {
      "cell_type": "code",
      "metadata": {
        "id": "jjt8N6ypqKp-",
        "colab_type": "code",
        "colab": {}
      },
      "source": [
        "db = DataBlock(\n",
        "    blocks=(ImageBlock, CategoryBlock),\n",
        "    get_items=get_image_files,\n",
        "    splitter=RandomSplitter(0.3),\n",
        "    item_tfms=Resize(224),\n",
        "    get_y=cat_or_dog\n",
        ")"
      ],
      "execution_count": 0,
      "outputs": []
    },
    {
      "cell_type": "code",
      "metadata": {
        "id": "GMdDaANVqKqB",
        "colab_type": "code",
        "colab": {}
      },
      "source": [
        "dls = db.dataloaders(im_path/\"images\")"
      ],
      "execution_count": 0,
      "outputs": []
    },
    {
      "cell_type": "code",
      "metadata": {
        "id": "Hv_YGHXNqKqD",
        "colab_type": "code",
        "colab": {}
      },
      "source": [
        "dls.show_batch()"
      ],
      "execution_count": 0,
      "outputs": []
    },
    {
      "cell_type": "markdown",
      "metadata": {
        "id": "mOExkM7UqKqF",
        "colab_type": "text"
      },
      "source": [
        "## Let's Train Our Model"
      ]
    },
    {
      "cell_type": "code",
      "metadata": {
        "id": "5tM1B_Y5qKqG",
        "colab_type": "code",
        "colab": {}
      },
      "source": [
        "learn = cnn_learner(dls, resnet34, metrics=accuracy)"
      ],
      "execution_count": 0,
      "outputs": []
    },
    {
      "cell_type": "code",
      "metadata": {
        "id": "xWn2SerBqKqJ",
        "colab_type": "code",
        "colab": {}
      },
      "source": [
        "learn.fine_tune(2)"
      ],
      "execution_count": 0,
      "outputs": []
    },
    {
      "cell_type": "markdown",
      "metadata": {
        "id": "YGHa_zIhqKqL",
        "colab_type": "text"
      },
      "source": [
        "Hmm. This is pretty good. Our accuracy is **99+%** without doing much."
      ]
    },
    {
      "cell_type": "markdown",
      "metadata": {
        "id": "hnGDeGaFqKqM",
        "colab_type": "text"
      },
      "source": [
        "## Now Let's Do Some Predictions"
      ]
    },
    {
      "cell_type": "code",
      "metadata": {
        "id": "aR5hFELUqKqM",
        "colab_type": "code",
        "colab": {}
      },
      "source": [
        "from ipywidgets import widgets"
      ],
      "execution_count": 0,
      "outputs": []
    },
    {
      "cell_type": "code",
      "metadata": {
        "id": "8kYLzXDgqKqO",
        "colab_type": "code",
        "colab": {}
      },
      "source": [
        "uploader = widgets.FileUpload()\n",
        "uploader"
      ],
      "execution_count": 0,
      "outputs": []
    },
    {
      "cell_type": "code",
      "metadata": {
        "id": "KL5KctjRqKqQ",
        "colab_type": "code",
        "colab": {}
      },
      "source": [
        "im_uploaded = PILImage.create(uploader.data[0])"
      ],
      "execution_count": 0,
      "outputs": []
    },
    {
      "cell_type": "code",
      "metadata": {
        "id": "bLkZugpfqKqS",
        "colab_type": "code",
        "colab": {}
      },
      "source": [
        "show_image(im_uploaded)"
      ],
      "execution_count": 0,
      "outputs": []
    },
    {
      "cell_type": "code",
      "metadata": {
        "id": "bykYWDSuqKqU",
        "colab_type": "code",
        "colab": {}
      },
      "source": [
        "learn.predict(im_uploaded)"
      ],
      "execution_count": 0,
      "outputs": []
    },
    {
      "cell_type": "code",
      "metadata": {
        "id": "goIUri6DqKqW",
        "colab_type": "code",
        "colab": {}
      },
      "source": [
        "uploader"
      ],
      "execution_count": 0,
      "outputs": []
    },
    {
      "cell_type": "code",
      "metadata": {
        "id": "jaeKXJOBqKqY",
        "colab_type": "code",
        "colab": {}
      },
      "source": [
        "im_uploaded = PILImage.create(uploader.data[0])\n",
        "show_image(im_uploaded)"
      ],
      "execution_count": 0,
      "outputs": []
    },
    {
      "cell_type": "code",
      "metadata": {
        "id": "OwuelKUXqKqa",
        "colab_type": "code",
        "colab": {}
      },
      "source": [
        "learn.predict(im_uploaded)"
      ],
      "execution_count": 0,
      "outputs": []
    },
    {
      "cell_type": "markdown",
      "metadata": {
        "id": "WxKlbfuYqKqc",
        "colab_type": "text"
      },
      "source": [
        "**That's it.**"
      ]
    }
  ]
}