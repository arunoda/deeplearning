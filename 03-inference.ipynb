{
  "nbformat": 4,
  "nbformat_minor": 0,
  "metadata": {
    "kernelspec": {
      "display_name": "Python 3",
      "language": "python",
      "name": "python3"
    },
    "language_info": {
      "codemirror_mode": {
        "name": "ipython",
        "version": 3
      },
      "file_extension": ".py",
      "mimetype": "text/x-python",
      "name": "python",
      "nbconvert_exporter": "python",
      "pygments_lexer": "ipython3",
      "version": "3.7.6"
    },
    "colab": {
      "name": "02.inference.ipynb",
      "provenance": []
    }
  },
  "cells": [
    {
      "cell_type": "markdown",
      "metadata": {
        "id": "gFOEwU_j0GSS",
        "colab_type": "text"
      },
      "source": [
        "# Inference\n",
        "\n",
        "Basically, this is using the trained model for predictions.<br/>\n",
        "To do this, we don't need a GPU. We can do this in a CPU.\n",
        "\n",
        "Basically, that's the idea.\n",
        "You train a model on a powerful device, then put that model in a less powerful model.<br/>\n",
        "May be in the edge(Rasberry Pi) or inside a Web app."
      ]
    },
    {
      "cell_type": "markdown",
      "metadata": {
        "id": "uaCbOQGP0Ngy",
        "colab_type": "text"
      },
      "source": [
        "## Setting Up\n",
        "This is how we install fastai and setup our notebook"
      ]
    },
    {
      "cell_type": "code",
      "metadata": {
        "id": "TMBm7NZZ0SY9",
        "colab_type": "code",
        "colab": {}
      },
      "source": [
        "!pip install fastai2\n",
        "!git clone https://github.com/arunoda/deeplearning.git\n",
        "%cd 'deeplearning'"
      ],
      "execution_count": 0,
      "outputs": []
    },
    {
      "cell_type": "code",
      "metadata": {
        "id": "owTL2QUG0GST",
        "colab_type": "code",
        "colab": {}
      },
      "source": [
        "from fastai2.vision.all import *\n",
        "from ipywidgets import widgets"
      ],
      "execution_count": 0,
      "outputs": []
    },
    {
      "cell_type": "markdown",
      "metadata": {
        "id": "oc0x3n5c0rfG",
        "colab_type": "text"
      },
      "source": [
        "## Connecting to Google Drive\n",
        "\n",
        "Let's connect to Google Drive. So, we can load the our trained model."
      ]
    },
    {
      "cell_type": "code",
      "metadata": {
        "id": "wTTJZmgv02K7",
        "colab_type": "code",
        "colab": {}
      },
      "source": [
        "from google.colab import drive\n",
        "drive.mount('/content/drive')"
      ],
      "execution_count": 0,
      "outputs": []
    },
    {
      "cell_type": "code",
      "metadata": {
        "id": "8AMAV5451A1E",
        "colab_type": "code",
        "colab": {}
      },
      "source": [
        "data_dir = Path(\"/content/drive/My Drive/dl-mantra\")\n",
        "data_dir.ls()"
      ],
      "execution_count": 0,
      "outputs": []
    },
    {
      "cell_type": "markdown",
      "metadata": {
        "id": "hu9H5fyM1LnG",
        "colab_type": "text"
      },
      "source": [
        "## Loading the Model"
      ]
    },
    {
      "cell_type": "code",
      "metadata": {
        "id": "aJU28D-00GSX",
        "colab_type": "code",
        "colab": {}
      },
      "source": [
        "learn = load_learner(data_dir/\"cats_and_dogs.pkl\")"
      ],
      "execution_count": 0,
      "outputs": []
    },
    {
      "cell_type": "markdown",
      "metadata": {
        "id": "tNbKlMNL0GSb",
        "colab_type": "text"
      },
      "source": [
        "**Hmm. It failed why?**\n",
        "\n",
        "Oh we need to get our `cat_or_dog` function."
      ]
    },
    {
      "cell_type": "code",
      "metadata": {
        "id": "0CR7xBxM0GSb",
        "colab_type": "code",
        "colab": {}
      },
      "source": [
        "def cat_or_dog(p):\n",
        "    if p.name[0].isupper():\n",
        "        return 'cat'\n",
        "    else:\n",
        "        return 'dog'"
      ],
      "execution_count": 0,
      "outputs": []
    },
    {
      "cell_type": "code",
      "metadata": {
        "id": "8GQbQC8Y0GSd",
        "colab_type": "code",
        "colab": {}
      },
      "source": [
        "# Let's try to load it again\n",
        "learn = load_learner(data_dir/\"cats_and_dogs.pkl\")"
      ],
      "execution_count": 0,
      "outputs": []
    },
    {
      "cell_type": "markdown",
      "metadata": {
        "id": "Gkg9nCnT0GSg",
        "colab_type": "text"
      },
      "source": [
        "## Let's Predict"
      ]
    },
    {
      "cell_type": "code",
      "metadata": {
        "id": "4_VeKS2r0GSg",
        "colab_type": "code",
        "colab": {}
      },
      "source": [
        "uploader = widgets.FileUpload()"
      ],
      "execution_count": 0,
      "outputs": []
    },
    {
      "cell_type": "code",
      "metadata": {
        "id": "q4kE-jOE0GSj",
        "colab_type": "code",
        "colab": {}
      },
      "source": [
        "uploader"
      ],
      "execution_count": 0,
      "outputs": []
    },
    {
      "cell_type": "code",
      "metadata": {
        "id": "aZL_4mOk0GSl",
        "colab_type": "code",
        "colab": {}
      },
      "source": [
        "im_uploaded = PILImage.create(uploader.data[0])\n",
        "show_image(im_uploaded)"
      ],
      "execution_count": 0,
      "outputs": []
    },
    {
      "cell_type": "code",
      "metadata": {
        "id": "mRO0svOg0GSo",
        "colab_type": "code",
        "colab": {}
      },
      "source": [
        "learn.predict(im_uploaded)"
      ],
      "execution_count": 0,
      "outputs": []
    },
    {
      "cell_type": "code",
      "metadata": {
        "id": "hnkawXzf0GSx",
        "colab_type": "code",
        "colab": {}
      },
      "source": [
        ""
      ],
      "execution_count": 0,
      "outputs": []
    }
  ]
}